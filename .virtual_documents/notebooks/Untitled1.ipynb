


from IPython.display import IFrame, display
import tensorflow as tf
from tensorflow import keras
keras.__version__


from keras.models import Sequential
from keras.layers import Dense, Dropout, Activation

class SimpleCNN(tf.keras.Model):
    def __init__(self, loss=None, optimizer=None):
        super().__init__()
        self.loss = loss
        self.optimizer = optimizer
        self.conv1 = tf.keras.layers.Conv2D(32, kernel_size=3, activation='relu')
        #self.norm = tf.keras.layers.BatchNormalization()
        #self.drop = tf.keras.layers.Dropout(0.5)
        self.flatten = tf.keras.layers.Flatten()
        self.dense1 = tf.keras.layers.Dense(64, activation='relu')
        self.dense2 = tf.keras.layers.Dense(10)

    def call(self, x): # in pytorch this would be the forward method
        x = self.conv1(x)
        #x = self.drop(x)
        x = self.flatten(x)
        x = self.dense1(x)
        return self.dense2(x)

model = SimpleCNN()
model(tf.random.normal([1, 40, 40, 1]))  # Provide a dummy input
model.summary()
model.summary()









