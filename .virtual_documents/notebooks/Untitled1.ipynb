


from IPython.display import IFrame, display

from tensorflow import keras
keras.__version__



