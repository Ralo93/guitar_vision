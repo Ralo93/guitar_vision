{
 "cells": [
  {
   "cell_type": "code",
   "execution_count": 10,
   "id": "e77e0c15-b9c5-4953-b6c8-21db380410e2",
   "metadata": {},
   "outputs": [
    {
     "name": "stdout",
     "output_type": "stream",
     "text": [
      "Requirement already satisfied: nbformat in c:\\users\\rapha\\repositories\\guitar_hero\\.envs\\dev_env\\lib\\site-packages (5.10.4)\n",
      "Requirement already satisfied: fastjsonschema>=2.15 in c:\\users\\rapha\\repositories\\guitar_hero\\.envs\\dev_env\\lib\\site-packages (from nbformat) (2.20.0)\n",
      "Requirement already satisfied: jsonschema>=2.6 in c:\\users\\rapha\\repositories\\guitar_hero\\.envs\\dev_env\\lib\\site-packages (from nbformat) (4.23.0)\n",
      "Requirement already satisfied: jupyter-core!=5.0.*,>=4.12 in c:\\users\\rapha\\repositories\\guitar_hero\\.envs\\dev_env\\lib\\site-packages (from nbformat) (5.7.2)\n",
      "Requirement already satisfied: traitlets>=5.1 in c:\\users\\rapha\\repositories\\guitar_hero\\.envs\\dev_env\\lib\\site-packages (from nbformat) (5.14.3)\n",
      "Requirement already satisfied: attrs>=22.2.0 in c:\\users\\rapha\\repositories\\guitar_hero\\.envs\\dev_env\\lib\\site-packages (from jsonschema>=2.6->nbformat) (24.2.0)\n",
      "Requirement already satisfied: jsonschema-specifications>=2023.03.6 in c:\\users\\rapha\\repositories\\guitar_hero\\.envs\\dev_env\\lib\\site-packages (from jsonschema>=2.6->nbformat) (2024.10.1)\n",
      "Requirement already satisfied: referencing>=0.28.4 in c:\\users\\rapha\\repositories\\guitar_hero\\.envs\\dev_env\\lib\\site-packages (from jsonschema>=2.6->nbformat) (0.35.1)\n",
      "Requirement already satisfied: rpds-py>=0.7.1 in c:\\users\\rapha\\repositories\\guitar_hero\\.envs\\dev_env\\lib\\site-packages (from jsonschema>=2.6->nbformat) (0.20.0)\n",
      "Requirement already satisfied: platformdirs>=2.5 in c:\\users\\rapha\\repositories\\guitar_hero\\.envs\\dev_env\\lib\\site-packages (from jupyter-core!=5.0.*,>=4.12->nbformat) (4.3.6)\n",
      "Requirement already satisfied: pywin32>=300 in c:\\users\\rapha\\repositories\\guitar_hero\\.envs\\dev_env\\lib\\site-packages (from jupyter-core!=5.0.*,>=4.12->nbformat) (308)\n"
     ]
    }
   ],
   "source": [
    "!pip install --upgrade nbformat"
   ]
  },
  {
   "cell_type": "code",
   "execution_count": 2,
   "id": "117a8aaa-d044-4c27-bf59-8cd2447b9410",
   "metadata": {},
   "outputs": [
    {
     "data": {
      "application/vnd.plotly.v1+json": {
       "config": {
        "plotlyServerURL": "https://plot.ly"
       },
       "data": [
        {
         "hoverinfo": "none",
         "line": {
          "color": "gray",
          "width": 2
         },
         "mode": "lines",
         "type": "scatter3d",
         "x": [
          0.1931219154802862,
          0.35007509198466374,
          null,
          0.1931219154802862,
          0.005969643934489872,
          null,
          0.35007509198466374,
          0.4220780279175356,
          null,
          0.4220780279175356,
          0.36441487051192134,
          null,
          0.36441487051192134,
          0.2089395930345819,
          null,
          0.2089395930345819,
          0.011955915558769644,
          null,
          0.011955915558769644,
          -0.18137655647557427,
          null,
          -0.18137655647557427,
          -0.3337577834781957,
          null,
          -0.3337577834781957,
          -0.40138592864621153,
          null,
          -0.40138592864621153,
          -0.34360269451223063,
          null,
          -0.34360269451223063,
          -0.18374638484283926,
          null,
          -0.18374638484283926,
          0.005969643934489872,
          null,
          -0.3025586784190687,
          -0.1883273622651355,
          null,
          -0.3025586784190687,
          -0.3375830802810171,
          null,
          -0.1883273622651355,
          -0.02015880577545701,
          null,
          -0.02015880577545701,
          0.153247332998389,
          null,
          0.153247332998389,
          0.27694875882718234,
          null,
          0.27694875882718234,
          0.3237802746772822,
          null,
          0.3237802746772822,
          0.28536450241266176,
          null,
          0.28536450241266176,
          0.1651590008358806,
          null,
          0.1651590008358806,
          -0.006224825895170783,
          null,
          -0.006224825895170783,
          -0.17168315701215975,
          null,
          -0.17168315701215975,
          -0.2906496705705852,
          null,
          -0.2906496705705852,
          -0.3375830802810171,
          null
         ],
         "y": [
          -0.9576148167768449,
          -0.866500069717378,
          null,
          -0.9576148167768449,
          -1,
          null,
          -0.866500069717378,
          -0.7158837979809723,
          null,
          -0.7158837979809723,
          -0.5429469400083932,
          null,
          -0.5429469400083932,
          -0.4352147961264897,
          null,
          -0.4352147961264897,
          -0.4139110302174308,
          null,
          -0.4139110302174308,
          -0.4692911114359825,
          null,
          -0.4692911114359825,
          -0.5912165576563723,
          null,
          -0.5912165576563723,
          -0.7618923759335268,
          null,
          -0.7618923759335268,
          -0.9225099724308309,
          null,
          -0.9225099724308309,
          -0.9957969532169065,
          null,
          -0.9957969532169065,
          -1,
          null,
          0.5775671766583054,
          0.6049237080723964,
          null,
          0.5775671766583054,
          0.5934816998354016,
          null,
          0.6049237080723964,
          0.6653247126764851,
          null,
          0.6653247126764851,
          0.7236850421968742,
          null,
          0.7236850421968742,
          0.77744206322119,
          null,
          0.77744206322119,
          0.8251644007377812,
          null,
          0.8251644007377812,
          0.8586132029033242,
          null,
          0.8586132029033242,
          0.8610451161957628,
          null,
          0.8610451161957628,
          0.8154129601079417,
          null,
          0.8154129601079417,
          0.7254126133744137,
          null,
          0.7254126133744137,
          0.6447057255212507,
          null,
          0.6447057255212507,
          0.5934816998354016,
          null
         ],
         "z": [
          -0.12647591855740906,
          -0.15106260595369664,
          null,
          -0.12647591855740906,
          -0.10920459880592089,
          null,
          -0.15106260595369664,
          -0.17528453659988774,
          null,
          -0.17528453659988774,
          -0.17713080754002447,
          null,
          -0.17713080754002447,
          -0.16979094691902813,
          null,
          -0.16979094691902813,
          -0.15984726795966345,
          null,
          -0.15984726795966345,
          -0.14956227082615275,
          null,
          -0.14956227082615275,
          -0.13867966052226607,
          null,
          -0.13867966052226607,
          -0.12638106387921416,
          null,
          -0.12638106387921416,
          -0.11123623375051937,
          null,
          -0.11123623375051937,
          -0.10307237416035636,
          null,
          -0.10307237416035636,
          -0.10920459880592089,
          null,
          0.31062154632084377,
          0.46398129190804704,
          null,
          0.31062154632084377,
          0.11723063610909183,
          null,
          0.46398129190804704,
          0.5287928166561277,
          null,
          0.5287928166561277,
          0.4820446661304502,
          null,
          0.4820446661304502,
          0.3445573964234922,
          null,
          0.3445573964234922,
          0.1605226685915248,
          null,
          0.1605226685915248,
          -0.02738806681677643,
          null,
          -0.02738806681677643,
          -0.17509513598184706,
          null,
          -0.17509513598184706,
          -0.23853895864142985,
          null,
          -0.23853895864142985,
          -0.20061493321185087,
          null,
          -0.20061493321185087,
          -0.0683856420135347,
          null,
          -0.0683856420135347,
          0.11723063610909183,
          null
         ]
        },
        {
         "hoverinfo": "text",
         "marker": {
          "color": "blue",
          "size": 10,
          "symbol": "circle"
         },
         "mode": "markers+text",
         "text": [
          "C Major",
          "G Major",
          "D Major",
          "A Major",
          "E Major",
          "B Major",
          "F# Major",
          "Db Major",
          "Ab Major",
          "Eb Major",
          "Bb Major",
          "F Major",
          "A Minor",
          "E Minor",
          "B Minor",
          "F# Minor",
          "C# Minor",
          "G# Minor",
          "D# Minor",
          "Bb Minor",
          "F Minor",
          "C Minor",
          "G Minor",
          "D Minor"
         ],
         "type": "scatter3d",
         "x": [
          0.1931219154802862,
          0.35007509198466374,
          0.4220780279175356,
          0.36441487051192134,
          0.2089395930345819,
          0.011955915558769644,
          -0.18137655647557427,
          -0.3337577834781957,
          -0.40138592864621153,
          -0.34360269451223063,
          -0.18374638484283926,
          0.005969643934489872,
          -0.3025586784190687,
          -0.1883273622651355,
          -0.02015880577545701,
          0.153247332998389,
          0.27694875882718234,
          0.3237802746772822,
          0.28536450241266176,
          0.1651590008358806,
          -0.006224825895170783,
          -0.17168315701215975,
          -0.2906496705705852,
          -0.3375830802810171
         ],
         "y": [
          -0.9576148167768449,
          -0.866500069717378,
          -0.7158837979809723,
          -0.5429469400083932,
          -0.4352147961264897,
          -0.4139110302174308,
          -0.4692911114359825,
          -0.5912165576563723,
          -0.7618923759335268,
          -0.9225099724308309,
          -0.9957969532169065,
          -1,
          0.5775671766583054,
          0.6049237080723964,
          0.6653247126764851,
          0.7236850421968742,
          0.77744206322119,
          0.8251644007377812,
          0.8586132029033242,
          0.8610451161957628,
          0.8154129601079417,
          0.7254126133744137,
          0.6447057255212507,
          0.5934816998354016
         ],
         "z": [
          -0.12647591855740906,
          -0.15106260595369664,
          -0.17528453659988774,
          -0.17713080754002447,
          -0.16979094691902813,
          -0.15984726795966345,
          -0.14956227082615275,
          -0.13867966052226607,
          -0.12638106387921416,
          -0.11123623375051937,
          -0.10307237416035636,
          -0.10920459880592089,
          0.31062154632084377,
          0.46398129190804704,
          0.5287928166561277,
          0.4820446661304502,
          0.3445573964234922,
          0.1605226685915248,
          -0.02738806681677643,
          -0.17509513598184706,
          -0.23853895864142985,
          -0.20061493321185087,
          -0.0683856420135347,
          0.11723063610909183
         ]
        }
       ],
       "layout": {
        "autosize": true,
        "margin": {
         "b": 0,
         "l": 0,
         "r": 0,
         "t": 0
        },
        "scene": {
         "aspectmode": "auto",
         "aspectratio": {
          "x": 0.7801588419914925,
          "y": 1.7631746856339932,
          "z": 0.7269785938628095
         },
         "camera": {
          "center": {
           "x": 0,
           "y": 0,
           "z": 0
          },
          "eye": {
           "x": 0.2999071393240917,
           "y": -2.055124234976352,
           "z": 0.6115718163840648
          },
          "projection": {
           "type": "perspective"
          },
          "up": {
           "x": 0,
           "y": 0,
           "z": 1
          }
         },
         "xaxis": {
          "showbackground": true,
          "type": "linear"
         },
         "yaxis": {
          "showbackground": false,
          "type": "linear"
         },
         "zaxis": {
          "showbackground": false,
          "type": "linear"
         }
        },
        "showlegend": false,
        "template": {
         "data": {
          "bar": [
           {
            "error_x": {
             "color": "#2a3f5f"
            },
            "error_y": {
             "color": "#2a3f5f"
            },
            "marker": {
             "line": {
              "color": "#E5ECF6",
              "width": 0.5
             },
             "pattern": {
              "fillmode": "overlay",
              "size": 10,
              "solidity": 0.2
             }
            },
            "type": "bar"
           }
          ],
          "barpolar": [
           {
            "marker": {
             "line": {
              "color": "#E5ECF6",
              "width": 0.5
             },
             "pattern": {
              "fillmode": "overlay",
              "size": 10,
              "solidity": 0.2
             }
            },
            "type": "barpolar"
           }
          ],
          "carpet": [
           {
            "aaxis": {
             "endlinecolor": "#2a3f5f",
             "gridcolor": "white",
             "linecolor": "white",
             "minorgridcolor": "white",
             "startlinecolor": "#2a3f5f"
            },
            "baxis": {
             "endlinecolor": "#2a3f5f",
             "gridcolor": "white",
             "linecolor": "white",
             "minorgridcolor": "white",
             "startlinecolor": "#2a3f5f"
            },
            "type": "carpet"
           }
          ],
          "choropleth": [
           {
            "colorbar": {
             "outlinewidth": 0,
             "ticks": ""
            },
            "type": "choropleth"
           }
          ],
          "contour": [
           {
            "colorbar": {
             "outlinewidth": 0,
             "ticks": ""
            },
            "colorscale": [
             [
              0,
              "#0d0887"
             ],
             [
              0.1111111111111111,
              "#46039f"
             ],
             [
              0.2222222222222222,
              "#7201a8"
             ],
             [
              0.3333333333333333,
              "#9c179e"
             ],
             [
              0.4444444444444444,
              "#bd3786"
             ],
             [
              0.5555555555555556,
              "#d8576b"
             ],
             [
              0.6666666666666666,
              "#ed7953"
             ],
             [
              0.7777777777777778,
              "#fb9f3a"
             ],
             [
              0.8888888888888888,
              "#fdca26"
             ],
             [
              1,
              "#f0f921"
             ]
            ],
            "type": "contour"
           }
          ],
          "contourcarpet": [
           {
            "colorbar": {
             "outlinewidth": 0,
             "ticks": ""
            },
            "type": "contourcarpet"
           }
          ],
          "heatmap": [
           {
            "colorbar": {
             "outlinewidth": 0,
             "ticks": ""
            },
            "colorscale": [
             [
              0,
              "#0d0887"
             ],
             [
              0.1111111111111111,
              "#46039f"
             ],
             [
              0.2222222222222222,
              "#7201a8"
             ],
             [
              0.3333333333333333,
              "#9c179e"
             ],
             [
              0.4444444444444444,
              "#bd3786"
             ],
             [
              0.5555555555555556,
              "#d8576b"
             ],
             [
              0.6666666666666666,
              "#ed7953"
             ],
             [
              0.7777777777777778,
              "#fb9f3a"
             ],
             [
              0.8888888888888888,
              "#fdca26"
             ],
             [
              1,
              "#f0f921"
             ]
            ],
            "type": "heatmap"
           }
          ],
          "heatmapgl": [
           {
            "colorbar": {
             "outlinewidth": 0,
             "ticks": ""
            },
            "colorscale": [
             [
              0,
              "#0d0887"
             ],
             [
              0.1111111111111111,
              "#46039f"
             ],
             [
              0.2222222222222222,
              "#7201a8"
             ],
             [
              0.3333333333333333,
              "#9c179e"
             ],
             [
              0.4444444444444444,
              "#bd3786"
             ],
             [
              0.5555555555555556,
              "#d8576b"
             ],
             [
              0.6666666666666666,
              "#ed7953"
             ],
             [
              0.7777777777777778,
              "#fb9f3a"
             ],
             [
              0.8888888888888888,
              "#fdca26"
             ],
             [
              1,
              "#f0f921"
             ]
            ],
            "type": "heatmapgl"
           }
          ],
          "histogram": [
           {
            "marker": {
             "pattern": {
              "fillmode": "overlay",
              "size": 10,
              "solidity": 0.2
             }
            },
            "type": "histogram"
           }
          ],
          "histogram2d": [
           {
            "colorbar": {
             "outlinewidth": 0,
             "ticks": ""
            },
            "colorscale": [
             [
              0,
              "#0d0887"
             ],
             [
              0.1111111111111111,
              "#46039f"
             ],
             [
              0.2222222222222222,
              "#7201a8"
             ],
             [
              0.3333333333333333,
              "#9c179e"
             ],
             [
              0.4444444444444444,
              "#bd3786"
             ],
             [
              0.5555555555555556,
              "#d8576b"
             ],
             [
              0.6666666666666666,
              "#ed7953"
             ],
             [
              0.7777777777777778,
              "#fb9f3a"
             ],
             [
              0.8888888888888888,
              "#fdca26"
             ],
             [
              1,
              "#f0f921"
             ]
            ],
            "type": "histogram2d"
           }
          ],
          "histogram2dcontour": [
           {
            "colorbar": {
             "outlinewidth": 0,
             "ticks": ""
            },
            "colorscale": [
             [
              0,
              "#0d0887"
             ],
             [
              0.1111111111111111,
              "#46039f"
             ],
             [
              0.2222222222222222,
              "#7201a8"
             ],
             [
              0.3333333333333333,
              "#9c179e"
             ],
             [
              0.4444444444444444,
              "#bd3786"
             ],
             [
              0.5555555555555556,
              "#d8576b"
             ],
             [
              0.6666666666666666,
              "#ed7953"
             ],
             [
              0.7777777777777778,
              "#fb9f3a"
             ],
             [
              0.8888888888888888,
              "#fdca26"
             ],
             [
              1,
              "#f0f921"
             ]
            ],
            "type": "histogram2dcontour"
           }
          ],
          "mesh3d": [
           {
            "colorbar": {
             "outlinewidth": 0,
             "ticks": ""
            },
            "type": "mesh3d"
           }
          ],
          "parcoords": [
           {
            "line": {
             "colorbar": {
              "outlinewidth": 0,
              "ticks": ""
             }
            },
            "type": "parcoords"
           }
          ],
          "pie": [
           {
            "automargin": true,
            "type": "pie"
           }
          ],
          "scatter": [
           {
            "fillpattern": {
             "fillmode": "overlay",
             "size": 10,
             "solidity": 0.2
            },
            "type": "scatter"
           }
          ],
          "scatter3d": [
           {
            "line": {
             "colorbar": {
              "outlinewidth": 0,
              "ticks": ""
             }
            },
            "marker": {
             "colorbar": {
              "outlinewidth": 0,
              "ticks": ""
             }
            },
            "type": "scatter3d"
           }
          ],
          "scattercarpet": [
           {
            "marker": {
             "colorbar": {
              "outlinewidth": 0,
              "ticks": ""
             }
            },
            "type": "scattercarpet"
           }
          ],
          "scattergeo": [
           {
            "marker": {
             "colorbar": {
              "outlinewidth": 0,
              "ticks": ""
             }
            },
            "type": "scattergeo"
           }
          ],
          "scattergl": [
           {
            "marker": {
             "colorbar": {
              "outlinewidth": 0,
              "ticks": ""
             }
            },
            "type": "scattergl"
           }
          ],
          "scattermapbox": [
           {
            "marker": {
             "colorbar": {
              "outlinewidth": 0,
              "ticks": ""
             }
            },
            "type": "scattermapbox"
           }
          ],
          "scatterpolar": [
           {
            "marker": {
             "colorbar": {
              "outlinewidth": 0,
              "ticks": ""
             }
            },
            "type": "scatterpolar"
           }
          ],
          "scatterpolargl": [
           {
            "marker": {
             "colorbar": {
              "outlinewidth": 0,
              "ticks": ""
             }
            },
            "type": "scatterpolargl"
           }
          ],
          "scatterternary": [
           {
            "marker": {
             "colorbar": {
              "outlinewidth": 0,
              "ticks": ""
             }
            },
            "type": "scatterternary"
           }
          ],
          "surface": [
           {
            "colorbar": {
             "outlinewidth": 0,
             "ticks": ""
            },
            "colorscale": [
             [
              0,
              "#0d0887"
             ],
             [
              0.1111111111111111,
              "#46039f"
             ],
             [
              0.2222222222222222,
              "#7201a8"
             ],
             [
              0.3333333333333333,
              "#9c179e"
             ],
             [
              0.4444444444444444,
              "#bd3786"
             ],
             [
              0.5555555555555556,
              "#d8576b"
             ],
             [
              0.6666666666666666,
              "#ed7953"
             ],
             [
              0.7777777777777778,
              "#fb9f3a"
             ],
             [
              0.8888888888888888,
              "#fdca26"
             ],
             [
              1,
              "#f0f921"
             ]
            ],
            "type": "surface"
           }
          ],
          "table": [
           {
            "cells": {
             "fill": {
              "color": "#EBF0F8"
             },
             "line": {
              "color": "white"
             }
            },
            "header": {
             "fill": {
              "color": "#C8D4E3"
             },
             "line": {
              "color": "white"
             }
            },
            "type": "table"
           }
          ]
         },
         "layout": {
          "annotationdefaults": {
           "arrowcolor": "#2a3f5f",
           "arrowhead": 0,
           "arrowwidth": 1
          },
          "autotypenumbers": "strict",
          "coloraxis": {
           "colorbar": {
            "outlinewidth": 0,
            "ticks": ""
           }
          },
          "colorscale": {
           "diverging": [
            [
             0,
             "#8e0152"
            ],
            [
             0.1,
             "#c51b7d"
            ],
            [
             0.2,
             "#de77ae"
            ],
            [
             0.3,
             "#f1b6da"
            ],
            [
             0.4,
             "#fde0ef"
            ],
            [
             0.5,
             "#f7f7f7"
            ],
            [
             0.6,
             "#e6f5d0"
            ],
            [
             0.7,
             "#b8e186"
            ],
            [
             0.8,
             "#7fbc41"
            ],
            [
             0.9,
             "#4d9221"
            ],
            [
             1,
             "#276419"
            ]
           ],
           "sequential": [
            [
             0,
             "#0d0887"
            ],
            [
             0.1111111111111111,
             "#46039f"
            ],
            [
             0.2222222222222222,
             "#7201a8"
            ],
            [
             0.3333333333333333,
             "#9c179e"
            ],
            [
             0.4444444444444444,
             "#bd3786"
            ],
            [
             0.5555555555555556,
             "#d8576b"
            ],
            [
             0.6666666666666666,
             "#ed7953"
            ],
            [
             0.7777777777777778,
             "#fb9f3a"
            ],
            [
             0.8888888888888888,
             "#fdca26"
            ],
            [
             1,
             "#f0f921"
            ]
           ],
           "sequentialminus": [
            [
             0,
             "#0d0887"
            ],
            [
             0.1111111111111111,
             "#46039f"
            ],
            [
             0.2222222222222222,
             "#7201a8"
            ],
            [
             0.3333333333333333,
             "#9c179e"
            ],
            [
             0.4444444444444444,
             "#bd3786"
            ],
            [
             0.5555555555555556,
             "#d8576b"
            ],
            [
             0.6666666666666666,
             "#ed7953"
            ],
            [
             0.7777777777777778,
             "#fb9f3a"
            ],
            [
             0.8888888888888888,
             "#fdca26"
            ],
            [
             1,
             "#f0f921"
            ]
           ]
          },
          "colorway": [
           "#636efa",
           "#EF553B",
           "#00cc96",
           "#ab63fa",
           "#FFA15A",
           "#19d3f3",
           "#FF6692",
           "#B6E880",
           "#FF97FF",
           "#FECB52"
          ],
          "font": {
           "color": "#2a3f5f"
          },
          "geo": {
           "bgcolor": "white",
           "lakecolor": "white",
           "landcolor": "#E5ECF6",
           "showlakes": true,
           "showland": true,
           "subunitcolor": "white"
          },
          "hoverlabel": {
           "align": "left"
          },
          "hovermode": "closest",
          "mapbox": {
           "style": "light"
          },
          "paper_bgcolor": "white",
          "plot_bgcolor": "#E5ECF6",
          "polar": {
           "angularaxis": {
            "gridcolor": "white",
            "linecolor": "white",
            "ticks": ""
           },
           "bgcolor": "#E5ECF6",
           "radialaxis": {
            "gridcolor": "white",
            "linecolor": "white",
            "ticks": ""
           }
          },
          "scene": {
           "xaxis": {
            "backgroundcolor": "#E5ECF6",
            "gridcolor": "white",
            "gridwidth": 2,
            "linecolor": "white",
            "showbackground": true,
            "ticks": "",
            "zerolinecolor": "white"
           },
           "yaxis": {
            "backgroundcolor": "#E5ECF6",
            "gridcolor": "white",
            "gridwidth": 2,
            "linecolor": "white",
            "showbackground": true,
            "ticks": "",
            "zerolinecolor": "white"
           },
           "zaxis": {
            "backgroundcolor": "#E5ECF6",
            "gridcolor": "white",
            "gridwidth": 2,
            "linecolor": "white",
            "showbackground": true,
            "ticks": "",
            "zerolinecolor": "white"
           }
          },
          "shapedefaults": {
           "line": {
            "color": "#2a3f5f"
           }
          },
          "ternary": {
           "aaxis": {
            "gridcolor": "white",
            "linecolor": "white",
            "ticks": ""
           },
           "baxis": {
            "gridcolor": "white",
            "linecolor": "white",
            "ticks": ""
           },
           "bgcolor": "#E5ECF6",
           "caxis": {
            "gridcolor": "white",
            "linecolor": "white",
            "ticks": ""
           }
          },
          "title": {
           "x": 0.05
          },
          "xaxis": {
           "automargin": true,
           "gridcolor": "white",
           "linecolor": "white",
           "ticks": "",
           "title": {
            "standoff": 15
           },
           "zerolinecolor": "white",
           "zerolinewidth": 2
          },
          "yaxis": {
           "automargin": true,
           "gridcolor": "white",
           "linecolor": "white",
           "ticks": "",
           "title": {
            "standoff": 15
           },
           "zerolinecolor": "white",
           "zerolinewidth": 2
          }
         }
        },
        "title": {
         "text": "3D Visualization of Harmonics - Circle of Fifths and I-IV-V"
        }
       }
      },
      "image/png": "[encoded data removed]",
      "text/html": [
       "<div>                            <div id=\"d7b8f3c2-02ee-46e5-a62f-a88ea1ec3195\" class=\"plotly-graph-div\" style=\"height:525px; width:100%;\"></div>            <script type=\"text/javascript\">                require([\"plotly\"], function(Plotly) {                    window.PLOTLYENV=window.PLOTLYENV || {};                                    if (document.getElementById(\"d7b8f3c2-02ee-46e5-a62f-a88ea1ec3195\")) {                    Plotly.newPlot(                        \"d7b8f3c2-02ee-46e5-a62f-a88ea1ec3195\",                        [{\"hoverinfo\":\"none\",\"line\":{\"color\":\"gray\",\"width\":2},\"mode\":\"lines\",\"x\":[0.1931219154802862,0.35007509198466374,null,0.1931219154802862,0.005969643934489872,null,0.35007509198466374,0.4220780279175356,null,0.4220780279175356,0.36441487051192134,null,0.36441487051192134,0.2089395930345819,null,0.2089395930345819,0.011955915558769644,null,0.011955915558769644,-0.18137655647557427,null,-0.18137655647557427,-0.3337577834781957,null,-0.3337577834781957,-0.40138592864621153,null,-0.40138592864621153,-0.34360269451223063,null,-0.34360269451223063,-0.18374638484283926,null,-0.18374638484283926,0.005969643934489872,null,-0.3025586784190687,-0.1883273622651355,null,-0.3025586784190687,-0.3375830802810171,null,-0.1883273622651355,-0.02015880577545701,null,-0.02015880577545701,0.153247332998389,null,0.153247332998389,0.27694875882718234,null,0.27694875882718234,0.3237802746772822,null,0.3237802746772822,0.28536450241266176,null,0.28536450241266176,0.1651590008358806,null,0.1651590008358806,-0.006224825895170783,null,-0.006224825895170783,-0.17168315701215975,null,-0.17168315701215975,-0.2906496705705852,null,-0.2906496705705852,-0.3375830802810171,null],\"y\":[-0.9576148167768449,-0.866500069717378,null,-0.9576148167768449,-1.0,null,-0.866500069717378,-0.7158837979809723,null,-0.7158837979809723,-0.5429469400083932,null,-0.5429469400083932,-0.4352147961264897,null,-0.4352147961264897,-0.4139110302174308,null,-0.4139110302174308,-0.4692911114359825,null,-0.4692911114359825,-0.5912165576563723,null,-0.5912165576563723,-0.7618923759335268,null,-0.7618923759335268,-0.9225099724308309,null,-0.9225099724308309,-0.9957969532169065,null,-0.9957969532169065,-1.0,null,0.5775671766583054,0.6049237080723964,null,0.5775671766583054,0.5934816998354016,null,0.6049237080723964,0.6653247126764851,null,0.6653247126764851,0.7236850421968742,null,0.7236850421968742,0.77744206322119,null,0.77744206322119,0.8251644007377812,null,0.8251644007377812,0.8586132029033242,null,0.8586132029033242,0.8610451161957628,null,0.8610451161957628,0.8154129601079417,null,0.8154129601079417,0.7254126133744137,null,0.7254126133744137,0.6447057255212507,null,0.6447057255212507,0.5934816998354016,null],\"z\":[-0.12647591855740906,-0.15106260595369664,null,-0.12647591855740906,-0.10920459880592089,null,-0.15106260595369664,-0.17528453659988774,null,-0.17528453659988774,-0.17713080754002447,null,-0.17713080754002447,-0.16979094691902813,null,-0.16979094691902813,-0.15984726795966345,null,-0.15984726795966345,-0.14956227082615275,null,-0.14956227082615275,-0.13867966052226607,null,-0.13867966052226607,-0.12638106387921416,null,-0.12638106387921416,-0.11123623375051937,null,-0.11123623375051937,-0.10307237416035636,null,-0.10307237416035636,-0.10920459880592089,null,0.31062154632084377,0.46398129190804704,null,0.31062154632084377,0.11723063610909183,null,0.46398129190804704,0.5287928166561277,null,0.5287928166561277,0.4820446661304502,null,0.4820446661304502,0.3445573964234922,null,0.3445573964234922,0.1605226685915248,null,0.1605226685915248,-0.02738806681677643,null,-0.02738806681677643,-0.17509513598184706,null,-0.17509513598184706,-0.23853895864142985,null,-0.23853895864142985,-0.20061493321185087,null,-0.20061493321185087,-0.0683856420135347,null,-0.0683856420135347,0.11723063610909183,null],\"type\":\"scatter3d\"},{\"hoverinfo\":\"text\",\"marker\":{\"color\":\"blue\",\"size\":10,\"symbol\":\"circle\"},\"mode\":\"markers+text\",\"text\":[\"C Major\",\"G Major\",\"D Major\",\"A Major\",\"E Major\",\"B Major\",\"F# Major\",\"Db Major\",\"Ab Major\",\"Eb Major\",\"Bb Major\",\"F Major\",\"A Minor\",\"E Minor\",\"B Minor\",\"F# Minor\",\"C# Minor\",\"G# Minor\",\"D# Minor\",\"Bb Minor\",\"F Minor\",\"C Minor\",\"G Minor\",\"D Minor\"],\"x\":[0.1931219154802862,0.35007509198466374,0.4220780279175356,0.36441487051192134,0.2089395930345819,0.011955915558769644,-0.18137655647557427,-0.3337577834781957,-0.40138592864621153,-0.34360269451223063,-0.18374638484283926,0.005969643934489872,-0.3025586784190687,-0.1883273622651355,-0.02015880577545701,0.153247332998389,0.27694875882718234,0.3237802746772822,0.28536450241266176,0.1651590008358806,-0.006224825895170783,-0.17168315701215975,-0.2906496705705852,-0.3375830802810171],\"y\":[-0.9576148167768449,-0.866500069717378,-0.7158837979809723,-0.5429469400083932,-0.4352147961264897,-0.4139110302174308,-0.4692911114359825,-0.5912165576563723,-0.7618923759335268,-0.9225099724308309,-0.9957969532169065,-1.0,0.5775671766583054,0.6049237080723964,0.6653247126764851,0.7236850421968742,0.77744206322119,0.8251644007377812,0.8586132029033242,0.8610451161957628,0.8154129601079417,0.7254126133744137,0.6447057255212507,0.5934816998354016],\"z\":[-0.12647591855740906,-0.15106260595369664,-0.17528453659988774,-0.17713080754002447,-0.16979094691902813,-0.15984726795966345,-0.14956227082615275,-0.13867966052226607,-0.12638106387921416,-0.11123623375051937,-0.10307237416035636,-0.10920459880592089,0.31062154632084377,0.46398129190804704,0.5287928166561277,0.4820446661304502,0.3445573964234922,0.1605226685915248,-0.02738806681677643,-0.17509513598184706,-0.23853895864142985,-0.20061493321185087,-0.0683856420135347,0.11723063610909183],\"type\":\"scatter3d\"}],                        {\"template\":{\"data\":{\"histogram2dcontour\":[{\"type\":\"histogram2dcontour\",\"colorbar\":{\"outlinewidth\":0,\"ticks\":\"\"},\"colorscale\":[[0.0,\"#0d0887\"],[0.1111111111111111,\"#46039f\"],[0.2222222222222222,\"#7201a8\"],[0.3333333333333333,\"#9c179e\"],[0.4444444444444444,\"#bd3786\"],[0.5555555555555556,\"#d8576b\"],[0.6666666666666666,\"#ed7953\"],[0.7777777777777778,\"#fb9f3a\"],[0.8888888888888888,\"#fdca26\"],[1.0,\"#f0f921\"]]}],\"choropleth\":[{\"type\":\"choropleth\",\"colorbar\":{\"outlinewidth\":0,\"ticks\":\"\"}}],\"histogram2d\":[{\"type\":\"histogram2d\",\"colorbar\":{\"outlinewidth\":0,\"ticks\":\"\"},\"colorscale\":[[0.0,\"#0d0887\"],[0.1111111111111111,\"#46039f\"],[0.2222222222222222,\"#7201a8\"],[0.3333333333333333,\"#9c179e\"],[0.4444444444444444,\"#bd3786\"],[0.5555555555555556,\"#d8576b\"],[0.6666666666666666,\"#ed7953\"],[0.7777777777777778,\"#fb9f3a\"],[0.8888888888888888,\"#fdca26\"],[1.0,\"#f0f921\"]]}],\"heatmap\":[{\"type\":\"heatmap\",\"colorbar\":{\"outlinewidth\":0,\"ticks\":\"\"},\"colorscale\":[[0.0,\"#0d0887\"],[0.1111111111111111,\"#46039f\"],[0.2222222222222222,\"#7201a8\"],[0.3333333333333333,\"#9c179e\"],[0.4444444444444444,\"#bd3786\"],[0.5555555555555556,\"#d8576b\"],[0.6666666666666666,\"#ed7953\"],[0.7777777777777778,\"#fb9f3a\"],[0.8888888888888888,\"#fdca26\"],[1.0,\"#f0f921\"]]}],\"heatmapgl\":[{\"type\":\"heatmapgl\",\"colorbar\":{\"outlinewidth\":0,\"ticks\":\"\"},\"colorscale\":[[0.0,\"#0d0887\"],[0.1111111111111111,\"#46039f\"],[0.2222222222222222,\"#7201a8\"],[0.3333333333333333,\"#9c179e\"],[0.4444444444444444,\"#bd3786\"],[0.5555555555555556,\"#d8576b\"],[0.6666666666666666,\"#ed7953\"],[0.7777777777777778,\"#fb9f3a\"],[0.8888888888888888,\"#fdca26\"],[1.0,\"#f0f921\"]]}],\"contourcarpet\":[{\"type\":\"contourcarpet\",\"colorbar\":{\"outlinewidth\":0,\"ticks\":\"\"}}],\"contour\":[{\"type\":\"contour\",\"colorbar\":{\"outlinewidth\":0,\"ticks\":\"\"},\"colorscale\":[[0.0,\"#0d0887\"],[0.1111111111111111,\"#46039f\"],[0.2222222222222222,\"#7201a8\"],[0.3333333333333333,\"#9c179e\"],[0.4444444444444444,\"#bd3786\"],[0.5555555555555556,\"#d8576b\"],[0.6666666666666666,\"#ed7953\"],[0.7777777777777778,\"#fb9f3a\"],[0.8888888888888888,\"#fdca26\"],[1.0,\"#f0f921\"]]}],\"surface\":[{\"type\":\"surface\",\"colorbar\":{\"outlinewidth\":0,\"ticks\":\"\"},\"colorscale\":[[0.0,\"#0d0887\"],[0.1111111111111111,\"#46039f\"],[0.2222222222222222,\"#7201a8\"],[0.3333333333333333,\"#9c179e\"],[0.4444444444444444,\"#bd3786\"],[0.5555555555555556,\"#d8576b\"],[0.6666666666666666,\"#ed7953\"],[0.7777777777777778,\"#fb9f3a\"],[0.8888888888888888,\"#fdca26\"],[1.0,\"#f0f921\"]]}],\"mesh3d\":[{\"type\":\"mesh3d\",\"colorbar\":{\"outlinewidth\":0,\"ticks\":\"\"}}],\"scatter\":[{\"fillpattern\":{\"fillmode\":\"overlay\",\"size\":10,\"solidity\":0.2},\"type\":\"scatter\"}],\"parcoords\":[{\"type\":\"parcoords\",\"line\":{\"colorbar\":{\"outlinewidth\":0,\"ticks\":\"\"}}}],\"scatterpolargl\":[{\"type\":\"scatterpolargl\",\"marker\":{\"colorbar\":{\"outlinewidth\":0,\"ticks\":\"\"}}}],\"bar\":[{\"error_x\":{\"color\":\"#2a3f5f\"},\"error_y\":{\"color\":\"#2a3f5f\"},\"marker\":{\"line\":{\"color\":\"#E5ECF6\",\"width\":0.5},\"pattern\":{\"fillmode\":\"overlay\",\"size\":10,\"solidity\":0.2}},\"type\":\"bar\"}],\"scattergeo\":[{\"type\":\"scattergeo\",\"marker\":{\"colorbar\":{\"outlinewidth\":0,\"ticks\":\"\"}}}],\"scatterpolar\":[{\"type\":\"scatterpolar\",\"marker\":{\"colorbar\":{\"outlinewidth\":0,\"ticks\":\"\"}}}],\"histogram\":[{\"marker\":{\"pattern\":{\"fillmode\":\"overlay\",\"size\":10,\"solidity\":0.2}},\"type\":\"histogram\"}],\"scattergl\":[{\"type\":\"scattergl\",\"marker\":{\"colorbar\":{\"outlinewidth\":0,\"ticks\":\"\"}}}],\"scatter3d\":[{\"type\":\"scatter3d\",\"line\":{\"colorbar\":{\"outlinewidth\":0,\"ticks\":\"\"}},\"marker\":{\"colorbar\":{\"outlinewidth\":0,\"ticks\":\"\"}}}],\"scattermapbox\":[{\"type\":\"scattermapbox\",\"marker\":{\"colorbar\":{\"outlinewidth\":0,\"ticks\":\"\"}}}],\"scatterternary\":[{\"type\":\"scatterternary\",\"marker\":{\"colorbar\":{\"outlinewidth\":0,\"ticks\":\"\"}}}],\"scattercarpet\":[{\"type\":\"scattercarpet\",\"marker\":{\"colorbar\":{\"outlinewidth\":0,\"ticks\":\"\"}}}],\"carpet\":[{\"aaxis\":{\"endlinecolor\":\"#2a3f5f\",\"gridcolor\":\"white\",\"linecolor\":\"white\",\"minorgridcolor\":\"white\",\"startlinecolor\":\"#2a3f5f\"},\"baxis\":{\"endlinecolor\":\"#2a3f5f\",\"gridcolor\":\"white\",\"linecolor\":\"white\",\"minorgridcolor\":\"white\",\"startlinecolor\":\"#2a3f5f\"},\"type\":\"carpet\"}],\"table\":[{\"cells\":{\"fill\":{\"color\":\"#EBF0F8\"},\"line\":{\"color\":\"white\"}},\"header\":{\"fill\":{\"color\":\"#C8D4E3\"},\"line\":{\"color\":\"white\"}},\"type\":\"table\"}],\"barpolar\":[{\"marker\":{\"line\":{\"color\":\"#E5ECF6\",\"width\":0.5},\"pattern\":{\"fillmode\":\"overlay\",\"size\":10,\"solidity\":0.2}},\"type\":\"barpolar\"}],\"pie\":[{\"automargin\":true,\"type\":\"pie\"}]},\"layout\":{\"autotypenumbers\":\"strict\",\"colorway\":[\"#636efa\",\"#EF553B\",\"#00cc96\",\"#ab63fa\",\"#FFA15A\",\"#19d3f3\",\"#FF6692\",\"#B6E880\",\"#FF97FF\",\"#FECB52\"],\"font\":{\"color\":\"#2a3f5f\"},\"hovermode\":\"closest\",\"hoverlabel\":{\"align\":\"left\"},\"paper_bgcolor\":\"white\",\"plot_bgcolor\":\"#E5ECF6\",\"polar\":{\"bgcolor\":\"#E5ECF6\",\"angularaxis\":{\"gridcolor\":\"white\",\"linecolor\":\"white\",\"ticks\":\"\"},\"radialaxis\":{\"gridcolor\":\"white\",\"linecolor\":\"white\",\"ticks\":\"\"}},\"ternary\":{\"bgcolor\":\"#E5ECF6\",\"aaxis\":{\"gridcolor\":\"white\",\"linecolor\":\"white\",\"ticks\":\"\"},\"baxis\":{\"gridcolor\":\"white\",\"linecolor\":\"white\",\"ticks\":\"\"},\"caxis\":{\"gridcolor\":\"white\",\"linecolor\":\"white\",\"ticks\":\"\"}},\"coloraxis\":{\"colorbar\":{\"outlinewidth\":0,\"ticks\":\"\"}},\"colorscale\":{\"sequential\":[[0.0,\"#0d0887\"],[0.1111111111111111,\"#46039f\"],[0.2222222222222222,\"#7201a8\"],[0.3333333333333333,\"#9c179e\"],[0.4444444444444444,\"#bd3786\"],[0.5555555555555556,\"#d8576b\"],[0.6666666666666666,\"#ed7953\"],[0.7777777777777778,\"#fb9f3a\"],[0.8888888888888888,\"#fdca26\"],[1.0,\"#f0f921\"]],\"sequentialminus\":[[0.0,\"#0d0887\"],[0.1111111111111111,\"#46039f\"],[0.2222222222222222,\"#7201a8\"],[0.3333333333333333,\"#9c179e\"],[0.4444444444444444,\"#bd3786\"],[0.5555555555555556,\"#d8576b\"],[0.6666666666666666,\"#ed7953\"],[0.7777777777777778,\"#fb9f3a\"],[0.8888888888888888,\"#fdca26\"],[1.0,\"#f0f921\"]],\"diverging\":[[0,\"#8e0152\"],[0.1,\"#c51b7d\"],[0.2,\"#de77ae\"],[0.3,\"#f1b6da\"],[0.4,\"#fde0ef\"],[0.5,\"#f7f7f7\"],[0.6,\"#e6f5d0\"],[0.7,\"#b8e186\"],[0.8,\"#7fbc41\"],[0.9,\"#4d9221\"],[1,\"#276419\"]]},\"xaxis\":{\"gridcolor\":\"white\",\"linecolor\":\"white\",\"ticks\":\"\",\"title\":{\"standoff\":15},\"zerolinecolor\":\"white\",\"automargin\":true,\"zerolinewidth\":2},\"yaxis\":{\"gridcolor\":\"white\",\"linecolor\":\"white\",\"ticks\":\"\",\"title\":{\"standoff\":15},\"zerolinecolor\":\"white\",\"automargin\":true,\"zerolinewidth\":2},\"scene\":{\"xaxis\":{\"backgroundcolor\":\"#E5ECF6\",\"gridcolor\":\"white\",\"linecolor\":\"white\",\"showbackground\":true,\"ticks\":\"\",\"zerolinecolor\":\"white\",\"gridwidth\":2},\"yaxis\":{\"backgroundcolor\":\"#E5ECF6\",\"gridcolor\":\"white\",\"linecolor\":\"white\",\"showbackground\":true,\"ticks\":\"\",\"zerolinecolor\":\"white\",\"gridwidth\":2},\"zaxis\":{\"backgroundcolor\":\"#E5ECF6\",\"gridcolor\":\"white\",\"linecolor\":\"white\",\"showbackground\":true,\"ticks\":\"\",\"zerolinecolor\":\"white\",\"gridwidth\":2}},\"shapedefaults\":{\"line\":{\"color\":\"#2a3f5f\"}},\"annotationdefaults\":{\"arrowcolor\":\"#2a3f5f\",\"arrowhead\":0,\"arrowwidth\":1},\"geo\":{\"bgcolor\":\"white\",\"landcolor\":\"#E5ECF6\",\"subunitcolor\":\"white\",\"showland\":true,\"showlakes\":true,\"lakecolor\":\"white\"},\"title\":{\"x\":0.05},\"mapbox\":{\"style\":\"light\"}}},\"scene\":{\"xaxis\":{\"showbackground\":true},\"yaxis\":{\"showbackground\":false},\"zaxis\":{\"showbackground\":false}},\"margin\":{\"l\":0,\"r\":0,\"b\":0,\"t\":0},\"title\":{\"text\":\"3D Visualization of Harmonics - Circle of Fifths and I-IV-V\"},\"showlegend\":false},                        {\"responsive\": true}                    ).then(function(){\n",
       "                            \n",
       "var gd = document.getElementById('d7b8f3c2-02ee-46e5-a62f-a88ea1ec3195');\n",
       "var x = new MutationObserver(function (mutations, observer) {{\n",
       "        var display = window.getComputedStyle(gd).display;\n",
       "        if (!display || display === 'none') {{\n",
       "            console.log([gd, 'removed!']);\n",
       "            Plotly.purge(gd);\n",
       "            observer.disconnect();\n",
       "        }}\n",
       "}});\n",
       "\n",
       "// Listen for the removal of the full notebook cells\n",
       "var notebookContainer = gd.closest('#notebook-container');\n",
       "if (notebookContainer) {{\n",
       "    x.observe(notebookContainer, {childList: true});\n",
       "}}\n",
       "\n",
       "// Listen for the clearing of the current output cell\n",
       "var outputEl = gd.closest('.output');\n",
       "if (outputEl) {{\n",
       "    x.observe(outputEl, {childList: true});\n",
       "}}\n",
       "\n",
       "                        })                };                });            </script>        </div>"
      ]
     },
     "metadata": {},
     "output_type": "display_data"
    }
   ],
   "source": [
    "import networkx as nx\n",
    "import plotly.graph_objects as go\n",
    "\n",
    "# Step 1: Create a graph structure to represent chords and harmonics\n",
    "G = nx.Graph()\n",
    "\n",
    "# Define chords for the Circle of Fifths (Major and Minor)\n",
    "circle_of_fifths_major = [\"C Major\", \"G Major\", \"D Major\", \"A Major\", \"E Major\", \"B Major\", \"F# Major\", \"Db Major\", \"Ab Major\", \"Eb Major\", \"Bb Major\", \"F Major\"]\n",
    "circle_of_fifths_minor = [\"A Minor\", \"E Minor\", \"B Minor\", \"F# Minor\", \"C# Minor\", \"G# Minor\", \"D# Minor\", \"Bb Minor\", \"F Minor\", \"C Minor\", \"G Minor\", \"D Minor\"]\n",
    "\n",
    "# Define the I-IV-V relationships for major chords\n",
    "I_IV_V_major = {\n",
    "    \"C Major\": (\"F Major\", \"G Major\"),\n",
    "    \"G Major\": (\"C Major\", \"D Major\"),\n",
    "    \"D Major\": (\"G Major\", \"A Major\"),\n",
    "    \"A Major\": (\"D Major\", \"E Major\"),\n",
    "    \"E Major\": (\"A Major\", \"B Major\"),\n",
    "    \"B Major\": (\"E Major\", \"F# Major\"),\n",
    "    \"F# Major\": (\"B Major\", \"Db Major\"),\n",
    "    \"Db Major\": (\"F# Major\", \"Ab Major\"),\n",
    "    \"Ab Major\": (\"Db Major\", \"Eb Major\"),\n",
    "    \"Eb Major\": (\"Ab Major\", \"Bb Major\"),\n",
    "    \"Bb Major\": (\"Eb Major\", \"F Major\"),\n",
    "    \"F Major\": (\"Bb Major\", \"C Major\")\n",
    "}\n",
    "\n",
    "# Define the I-IV-V relationships for minor chords\n",
    "I_IV_V_minor = {\n",
    "    \"A Minor\": (\"D Minor\", \"E Minor\"),\n",
    "    \"E Minor\": (\"A Minor\", \"B Minor\"),\n",
    "    \"B Minor\": (\"E Minor\", \"F# Minor\"),\n",
    "    \"F# Minor\": (\"B Minor\", \"C# Minor\"),\n",
    "    \"C# Minor\": (\"F# Minor\", \"G# Minor\"),\n",
    "    \"G# Minor\": (\"C# Minor\", \"D# Minor\"),\n",
    "    \"D# Minor\": (\"G# Minor\", \"Bb Minor\"),\n",
    "    \"Bb Minor\": (\"D# Minor\", \"F Minor\"),\n",
    "    \"F Minor\": (\"Bb Minor\", \"C Minor\"),\n",
    "    \"C Minor\": (\"F Minor\", \"G Minor\"),\n",
    "    \"G Minor\": (\"C Minor\", \"D Minor\"),\n",
    "    \"D Minor\": (\"G Minor\", \"A Minor\")\n",
    "}\n",
    "\n",
    "# Step 2: Add chords and harmonic relationships to the graph\n",
    "# Add Circle of Fifths (Major)\n",
    "for i in range(len(circle_of_fifths_major)):\n",
    "    G.add_edge(circle_of_fifths_major[i], circle_of_fifths_major[(i + 1) % len(circle_of_fifths_major)])\n",
    "\n",
    "# Add Circle of Fifths (Minor)\n",
    "for i in range(len(circle_of_fifths_minor)):\n",
    "    G.add_edge(circle_of_fifths_minor[i], circle_of_fifths_minor[(i + 1) % len(circle_of_fifths_minor)])\n",
    "\n",
    "# Add I-IV-V relationships (Major)\n",
    "for chord, (IV, V) in I_IV_V_major.items():\n",
    "    G.add_edge(chord, IV)\n",
    "    G.add_edge(chord, V)\n",
    "\n",
    "# Add I-IV-V relationships (Minor)\n",
    "for chord, (IV, V) in I_IV_V_minor.items():\n",
    "    G.add_edge(chord, IV)\n",
    "    G.add_edge(chord, V)\n",
    "\n",
    "# Step 3: Get 3D positions for each node using a spring layout\n",
    "pos = nx.spring_layout(G, dim=3)\n",
    "\n",
    "# Extract node positions for 3D visualization\n",
    "x_nodes = [pos[node][0] for node in G.nodes()]\n",
    "y_nodes = [pos[node][1] for node in G.nodes()]\n",
    "z_nodes = [pos[node][2] for node in G.nodes()]\n",
    "\n",
    "# Extract edge positions for 3D visualization\n",
    "x_edges = []\n",
    "y_edges = []\n",
    "z_edges = []\n",
    "for edge in G.edges():\n",
    "    x_edges += [pos[edge[0]][0], pos[edge[1]][0], None]\n",
    "    y_edges += [pos[edge[0]][1], pos[edge[1]][1], None]\n",
    "    z_edges += [pos[edge[0]][2], pos[edge[1]][2], None]\n",
    "\n",
    "# Step 4: Create the 3D plot with plotly\n",
    "edge_trace = go.Scatter3d(\n",
    "    x=x_edges, y=y_edges, z=z_edges,\n",
    "    mode='lines',\n",
    "    line=dict(color='gray', width=2),\n",
    "    hoverinfo='none'\n",
    ")\n",
    "\n",
    "node_trace = go.Scatter3d(\n",
    "    x=x_nodes, y=y_nodes, z=z_nodes,\n",
    "    mode='markers+text',\n",
    "    marker=dict(symbol='circle', size=10, color='blue'),\n",
    "    text=list(G.nodes()),\n",
    "    hoverinfo='text'\n",
    ")\n",
    "\n",
    "# Step 5: Create and display the 3D figure\n",
    "fig = go.Figure(data=[edge_trace, node_trace])\n",
    "fig.update_layout(\n",
    "    title=\"3D Visualization of Harmonics - Circle of Fifths and I-IV-V\",\n",
    "    scene=dict(\n",
    "        xaxis=dict(showbackground=True),\n",
    "        yaxis=dict(showbackground=False),\n",
    "        zaxis=dict(showbackground=False),\n",
    "    ),\n",
    "    margin=dict(l=0, r=0, b=0, t=0),\n",
    "    showlegend=False\n",
    ")\n",
    "\n",
    "fig.show()\n"
   ]
  },
  {
   "cell_type": "code",
   "execution_count": null,
   "id": "c44feafa-6e00-49ed-a1c3-1cd1167cd187",
   "metadata": {},
   "outputs": [],
   "source": []
  }
 ],
 "metadata": {
  "kernelspec": {
   "display_name": "New guitar her env",
   "language": "python",
   "name": "guitar_hero"
  },
  "language_info": {
   "codemirror_mode": {
    "name": "ipython",
    "version": 3
   },
   "file_extension": ".py",
   "mimetype": "text/x-python",
   "name": "python",
   "nbconvert_exporter": "python",
   "pygments_lexer": "ipython3",
   "version": "3.12.7"
  }
 },
 "nbformat": 4,
 "nbformat_minor": 5
}
